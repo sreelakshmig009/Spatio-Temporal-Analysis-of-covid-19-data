{
  "nbformat": 4,
  "nbformat_minor": 0,
  "metadata": {
    "colab": {
      "name": "Spatio-temporal analysis of covid-19 data.ipynb",
      "provenance": [],
      "collapsed_sections": []
    },
    "kernelspec": {
      "display_name": "Python 3",
      "name": "python3"
    },
    "language_info": {
      "name": "python"
    }
  },
  "cells": [
    {
      "cell_type": "markdown",
      "metadata": {
        "id": "jtqeqnXgGuIo"
      },
      "source": [
        "Dataset used for this analysis is taken from this [repository](https://github.com/CSSEGISandData/COVID-19)"
      ]
    },
    {
      "cell_type": "markdown",
      "metadata": {
        "id": "AXzS0pjqGHj9"
      },
      "source": [
        "**Importing Dependencies**"
      ]
    },
    {
      "cell_type": "code",
      "metadata": {
        "colab": {
          "base_uri": "https://localhost:8080/"
        },
        "id": "g1mss3lcGLGI",
        "outputId": "9c1918f2-204d-46ee-b25a-6c5669f26253"
      },
      "source": [
        "!pip install folium"
      ],
      "execution_count": 1,
      "outputs": [
        {
          "output_type": "stream",
          "name": "stdout",
          "text": [
            "Requirement already satisfied: folium in /usr/local/lib/python3.7/dist-packages (0.8.3)\n",
            "Requirement already satisfied: numpy in /usr/local/lib/python3.7/dist-packages (from folium) (1.19.5)\n",
            "Requirement already satisfied: requests in /usr/local/lib/python3.7/dist-packages (from folium) (2.23.0)\n",
            "Requirement already satisfied: jinja2 in /usr/local/lib/python3.7/dist-packages (from folium) (2.11.3)\n",
            "Requirement already satisfied: six in /usr/local/lib/python3.7/dist-packages (from folium) (1.15.0)\n",
            "Requirement already satisfied: branca>=0.3.0 in /usr/local/lib/python3.7/dist-packages (from folium) (0.4.2)\n",
            "Requirement already satisfied: MarkupSafe>=0.23 in /usr/local/lib/python3.7/dist-packages (from jinja2->folium) (2.0.1)\n",
            "Requirement already satisfied: idna<3,>=2.5 in /usr/local/lib/python3.7/dist-packages (from requests->folium) (2.10)\n",
            "Requirement already satisfied: certifi>=2017.4.17 in /usr/local/lib/python3.7/dist-packages (from requests->folium) (2021.5.30)\n",
            "Requirement already satisfied: chardet<4,>=3.0.2 in /usr/local/lib/python3.7/dist-packages (from requests->folium) (3.0.4)\n",
            "Requirement already satisfied: urllib3!=1.25.0,!=1.25.1,<1.26,>=1.21.1 in /usr/local/lib/python3.7/dist-packages (from requests->folium) (1.24.3)\n"
          ]
        }
      ]
    },
    {
      "cell_type": "code",
      "metadata": {
        "id": "I8IlXXPCCy25"
      },
      "source": [
        "import folium\n",
        "import pandas as pd\n",
        "from folium import plugins\n",
        "from datetime import timedelta, date\n",
        "import numpy as np"
      ],
      "execution_count": 2,
      "outputs": []
    },
    {
      "cell_type": "markdown",
      "metadata": {
        "id": "z4Bm6jInHbtJ"
      },
      "source": [
        "**Generator function to iterate over covid data from a particular date to present**"
      ]
    },
    {
      "cell_type": "code",
      "metadata": {
        "id": "eOawC7hHGfZg"
      },
      "source": [
        "def daterange(start_date, end_date):\n",
        "    for n in range(int((end_date - start_date).days)):\n",
        "        yield start_date + timedelta(n)\n",
        "\n",
        "\n",
        "start_date = date(2020, 1, 22)\n",
        "end_date = date.(2021,1,1)\n",
        "df = pd.DataFrame()\n",
        "for single_date in daterange(start_date, end_date):\n",
        "    fp = \"https://raw.githubusercontent.com/CSSEGISandData/COVID-19/master/csse_covid_19_data/csse_covid_19_daily_reports/{}.csv\".format(\n",
        "        single_date.strftime(\"%m-%d-%Y\")\n",
        "    )\n",
        "    df = df.append(pd.read_csv(fp).rename(columns={\"Province_State\":\"Province/State\",\"Country_Region\":\"Country/Region\",\"Last_Update\":\"Last Update\",\"Lat\":\"Latitude\",\"Long_\":\"Longitude\"}))\n"
      ],
      "execution_count": 3,
      "outputs": []
    },
    {
      "cell_type": "markdown",
      "metadata": {
        "id": "v7X1QQboI7Oj"
      },
      "source": [
        "**Adding coordinates(latitude and logitude) for the dataset**"
      ]
    },
    {
      "cell_type": "code",
      "metadata": {
        "id": "8aHpITZ5JFg6"
      },
      "source": [
        "df[\"Province/State\"] = df[\"Province/State\"].fillna(\"N/A\")\n",
        "df2 = (\n",
        "    df[[\"Province/State\", \"Country/Region\", \"Latitude\", \"Longitude\"]]\n",
        "    .dropna(axis=0)\n",
        "    .groupby([\"Province/State\", \"Country/Region\"])\n",
        "    .first()\n",
        ")\n",
        "\n",
        "df_acc = (\n",
        "    df[\n",
        "        [\n",
        "            \"Province/State\",\n",
        "            \"Country/Region\",\n",
        "            \"Last Update\",\n",
        "            \"Confirmed\",\n",
        "            \"Deaths\",\n",
        "            \"Recovered\",\n",
        "        ]\n",
        "    ]\n",
        "    .set_index([\"Province/State\", \"Country/Region\"])\n",
        "    .join(df2)\n",
        ")\n"
      ],
      "execution_count": 4,
      "outputs": []
    },
    {
      "cell_type": "markdown",
      "metadata": {
        "id": "L2FIkzUZNhD7"
      },
      "source": [
        "**Add an initial value 0 to fill in missing values**"
      ]
    },
    {
      "cell_type": "code",
      "metadata": {
        "id": "G4_OT7TvNntZ"
      },
      "source": [
        "df3 = df2.copy()\n",
        "df3[\"Last Update\"] = start_date - timedelta(days=1)\n",
        "df3[\"Confirmed\"] = 0\n",
        "df3[\"Deaths\"] = 0\n",
        "df3[\"Recovered\"] = 0\n",
        "df_acc = df_acc.append(df3)"
      ],
      "execution_count": 5,
      "outputs": []
    },
    {
      "cell_type": "code",
      "metadata": {
        "id": "exWos7wBRXOx"
      },
      "source": [
        "#enforcing the datetime column\n",
        "df_acc[\"Last Update\"] = pd.to_datetime(df_acc[\"Last Update\"]).dt.date\n",
        "df_acc = df_acc.reset_index()\n",
        "df_acc[\"Location\"] = df_acc[\"Province/State\"] + \", \" + df_acc[\"Country/Region\"]\n",
        "df_acc = df_acc.groupby([\"Location\", \"Last Update\"]).agg(\n",
        "    {\n",
        "        \"Latitude\": np.max,\n",
        "        \"Longitude\": np.max,\n",
        "        \"Confirmed\": np.max,\n",
        "        \"Deaths\": np.max,\n",
        "        \"Recovered\": np.max,\n",
        "    }\n",
        ")\n",
        "df_acc = df_acc.sort_index()\n",
        "new_index = pd.MultiIndex.from_product(df_acc.index.levels)\n",
        "df_acc = df_acc.reindex(new_index, method=\"ffill\").reset_index()"
      ],
      "execution_count": 6,
      "outputs": []
    },
    {
      "cell_type": "code",
      "metadata": {
        "id": "-Tvc8YO1Sbz-"
      },
      "source": [
        "df_acc[\"Latitude\"] = df_acc[\"Latitude\"].astype(float)\n",
        "df_acc[\"Longitude\"] = df_acc[\"Longitude\"].astype(float)"
      ],
      "execution_count": 7,
      "outputs": []
    },
    {
      "cell_type": "markdown",
      "metadata": {
        "id": "VOyOTwnmTkz5"
      },
      "source": [
        "**Extract the columns relevant to the data visualization(heatmap)**"
      ]
    },
    {
      "cell_type": "code",
      "metadata": {
        "id": "U_9fNkquSpWS"
      },
      "source": [
        "heat_df = df_acc[[\"Latitude\", \"Longitude\", \"Last Update\",\"Confirmed\",\"Deaths\",\"Recovered\"]].copy()\n",
        "\n",
        "# Enforce float\n",
        "heat_df[\"Confirmed\"] = heat_df[\"Confirmed\"].astype(float).fillna(0)\n",
        "heat_df[\"Deaths\"] = heat_df[\"Deaths\"].astype(float).fillna(0)\n",
        "heat_df[\"Recovered\"] = heat_df[\"Recovered\"].astype(float).fillna(0)\n",
        "heat_df[\"CurrentlyInfected\"] = heat_df[\"Confirmed\"]-heat_df[\"Recovered\"]\n",
        "\n",
        "heat_df = heat_df.dropna(axis=0, subset=[\"Latitude\", \"Longitude\", \"Confirmed\"])\n",
        "heat_df = heat_df.sort_values(\"Last Update\")\n",
        "heat_df[\"Last Update\"] = pd.to_datetime(heat_df[\"Last Update\"]).dt.strftime(\"%Y-%m-%d\")\n",
        "heat_df = heat_df[heat_df[\"Confirmed\"] > 0]\n",
        "\n",
        "heat_df[\"local_growth\"] = heat_df.groupby(\n",
        "    [\"Latitude\", \"Longitude\"]\n",
        ").Confirmed.pct_change()\n",
        "heat_df[\"local_growth\"] = heat_df[\"local_growth\"].clip(0).fillna(0)"
      ],
      "execution_count": 8,
      "outputs": []
    },
    {
      "cell_type": "markdown",
      "metadata": {
        "id": "LUr3VOMKUKiS"
      },
      "source": [
        "**List comprehension for generating the data structure needed for the heatmap:**\n",
        "\n",
        "[[[Lat,Lon,Heat],[Lat,Lon,Heat]][[Lat,Lon,Heat],[Lat,Lon,Heat]]]\n"
      ]
    },
    {
      "cell_type": "code",
      "metadata": {
        "id": "JSf1RT3IUYnc"
      },
      "source": [
        "# for visualizing it assymtotically - scaling so that china won't overshadow everything else\n",
        "limit_value = heat_df[\"Confirmed\"].max()\n",
        "alpha = 1000"
      ],
      "execution_count": 9,
      "outputs": []
    },
    {
      "cell_type": "code",
      "metadata": {
        "id": "LmvKe47P34xf"
      },
      "source": [
        "confirmed_data = [\n",
        "    [\n",
        "        [\n",
        "            row[\"Latitude\"],\n",
        "            row[\"Longitude\"],\n",
        "            alpha\n",
        "            * np.log(1 + row[\"Confirmed\"] / limit_value)\n",
        "            / (1 + alpha * np.log(1 + row[\"Confirmed\"] / limit_value)),\n",
        "        ]\n",
        "        for index, row in heat_df[heat_df[\"Last Update\"] == i].iterrows()\n",
        "    ]\n",
        "    for i in heat_df[\"Last Update\"].unique()\n",
        "]"
      ],
      "execution_count": 10,
      "outputs": []
    },
    {
      "cell_type": "code",
      "metadata": {
        "id": "j0QRRB5_WW3s"
      },
      "source": [
        "# Plot it on the map\n",
        "map_hmw = folium.Map(zoom_start=12)\n",
        "\n",
        "hm = plugins.HeatMapWithTime(\n",
        "    confirmed_data,\n",
        "    index=list(heat_df[\"Last Update\"].unique()),\n",
        "    name=\"Current cases\",\n",
        "    auto_play=True,\n",
        "    max_opacity=0.8,\n",
        ")\n",
        "hm.add_to(map_hmw)\n",
        "\n",
        "ctrl = folium.LayerControl()\n",
        "ctrl.add_to(map_hmw)\n",
        "\n",
        "# Display the map\n",
        "map_hmw.save('map.html')"
      ],
      "execution_count": null,
      "outputs": []
    }
  ]
}